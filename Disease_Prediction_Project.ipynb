{
  "nbformat": 4,
  "nbformat_minor": 0,
  "metadata": {
    "colab": {
      "name": "Disease Prediction Project.ipynb",
      "provenance": []
    },
    "kernelspec": {
      "name": "python3",
      "display_name": "Python 3"
    }
  },
  "cells": [
    {
      "cell_type": "code",
      "metadata": {
        "id": "koyHVxiQLt0T",
        "colab_type": "code",
        "outputId": "8c824046-e095-4f90-98c3-748e7249e12e",
        "colab": {
          "base_uri": "https://localhost:8080/",
          "height": 122
        }
      },
      "source": [
        "from google.colab import drive\n",
        "drive.mount('/content/gdrive')"
      ],
      "execution_count": 0,
      "outputs": [
        {
          "output_type": "stream",
          "text": [
            "Go to this URL in a browser: https://accounts.google.com/o/oauth2/auth?client_id=947318989803-6bn6qk8qdgf4n4g3pfee6491hc0brc4i.apps.googleusercontent.com&redirect_uri=urn%3Aietf%3Awg%3Aoauth%3A2.0%3Aoob&scope=email%20https%3A%2F%2Fwww.googleapis.com%2Fauth%2Fdocs.test%20https%3A%2F%2Fwww.googleapis.com%2Fauth%2Fdrive%20https%3A%2F%2Fwww.googleapis.com%2Fauth%2Fdrive.photos.readonly%20https%3A%2F%2Fwww.googleapis.com%2Fauth%2Fpeopleapi.readonly&response_type=code\n",
            "\n",
            "Enter your authorization code:\n",
            "··········\n",
            "Mounted at /content/gdrive\n"
          ],
          "name": "stdout"
        }
      ]
    },
    {
      "cell_type": "code",
      "metadata": {
        "id": "nqE2zby3L6E2",
        "colab_type": "code",
        "colab": {}
      },
      "source": [
        "from keras.models import Sequential\n",
        "from keras.layers import Convolution2D\n",
        "from keras.layers import MaxPooling2D\n",
        "from keras.layers import Flatten\n",
        "from keras.layers import Dense"
      ],
      "execution_count": 0,
      "outputs": []
    },
    {
      "cell_type": "code",
      "metadata": {
        "id": "1kNVak-5nLaV",
        "colab_type": "code",
        "outputId": "5fa440ce-0699-4736-d665-b23c51fcab99",
        "colab": {
          "base_uri": "https://localhost:8080/",
          "height": 139
        }
      },
      "source": [
        "classifier = Sequential()\n",
        "\n",
        "# Step 1 - Convolution\n",
        "classifier.add(Convolution2D(32, 3, 3, input_shape = (64, 64, 3), activation = 'relu'))\n",
        "\n",
        "# Step 2 - Pooling\n",
        "classifier.add(MaxPooling2D(pool_size = (2, 2)))\n",
        "\n",
        "# Adding a second convolutional layer\n",
        "classifier.add(Convolution2D(32, 3, 3, activation = 'relu'))\n",
        "classifier.add(MaxPooling2D(pool_size = (2, 2)))\n",
        "\n",
        "# Step 3 - Flattening\n",
        "classifier.add(Flatten())\n",
        "\n",
        "# Step 4 - Full connection\n",
        "classifier.add(Dense(output_dim = 128, activation = 'relu'))\n",
        "classifier.add(Dense(output_dim = 1, activation = 'sigmoid'))\n",
        "\n",
        "# Compiling the CNN\n",
        "classifier.compile(optimizer = 'adam', loss = 'binary_crossentropy', metrics = ['accuracy'])"
      ],
      "execution_count": 0,
      "outputs": [
        {
          "output_type": "stream",
          "text": [
            "/usr/local/lib/python3.6/dist-packages/ipykernel_launcher.py:4: UserWarning: Update your `Conv2D` call to the Keras 2 API: `Conv2D(32, (3, 3), input_shape=(64, 64, 3..., activation=\"relu\")`\n",
            "  after removing the cwd from sys.path.\n",
            "/usr/local/lib/python3.6/dist-packages/ipykernel_launcher.py:10: UserWarning: Update your `Conv2D` call to the Keras 2 API: `Conv2D(32, (3, 3), activation=\"relu\")`\n",
            "  # Remove the CWD from sys.path while we load stuff.\n",
            "/usr/local/lib/python3.6/dist-packages/ipykernel_launcher.py:17: UserWarning: Update your `Dense` call to the Keras 2 API: `Dense(activation=\"relu\", units=128)`\n",
            "/usr/local/lib/python3.6/dist-packages/ipykernel_launcher.py:18: UserWarning: Update your `Dense` call to the Keras 2 API: `Dense(activation=\"sigmoid\", units=1)`\n"
          ],
          "name": "stderr"
        }
      ]
    },
    {
      "cell_type": "code",
      "metadata": {
        "id": "6pyVO_oqnZKL",
        "colab_type": "code",
        "outputId": "1c354368-b5b1-42d8-9298-ff1f84f9d1f2",
        "colab": {
          "base_uri": "https://localhost:8080/",
          "height": 768
        }
      },
      "source": [
        "pip install --upgrade tensorflow"
      ],
      "execution_count": 0,
      "outputs": [
        {
          "output_type": "stream",
          "text": [
            "Collecting tensorflow\n",
            "\u001b[?25l  Downloading https://files.pythonhosted.org/packages/46/0f/7bd55361168bb32796b360ad15a25de6966c9c1beb58a8e30c01c8279862/tensorflow-2.0.0-cp36-cp36m-manylinux2010_x86_64.whl (86.3MB)\n",
            "\u001b[K     |████████████████████████████████| 86.3MB 38kB/s \n",
            "\u001b[?25hRequirement already satisfied, skipping upgrade: numpy<2.0,>=1.16.0 in /usr/local/lib/python3.6/dist-packages (from tensorflow) (1.17.3)\n",
            "Requirement already satisfied, skipping upgrade: termcolor>=1.1.0 in /usr/local/lib/python3.6/dist-packages (from tensorflow) (1.1.0)\n",
            "Requirement already satisfied, skipping upgrade: keras-preprocessing>=1.0.5 in /usr/local/lib/python3.6/dist-packages (from tensorflow) (1.1.0)\n",
            "Collecting tensorflow-estimator<2.1.0,>=2.0.0\n",
            "\u001b[?25l  Downloading https://files.pythonhosted.org/packages/fc/08/8b927337b7019c374719145d1dceba21a8bb909b93b1ad6f8fb7d22c1ca1/tensorflow_estimator-2.0.1-py2.py3-none-any.whl (449kB)\n",
            "\u001b[K     |████████████████████████████████| 450kB 51.3MB/s \n",
            "\u001b[?25hRequirement already satisfied, skipping upgrade: opt-einsum>=2.3.2 in /usr/local/lib/python3.6/dist-packages (from tensorflow) (3.1.0)\n",
            "Requirement already satisfied, skipping upgrade: wrapt>=1.11.1 in /usr/local/lib/python3.6/dist-packages (from tensorflow) (1.11.2)\n",
            "Requirement already satisfied, skipping upgrade: keras-applications>=1.0.8 in /usr/local/lib/python3.6/dist-packages (from tensorflow) (1.0.8)\n",
            "Requirement already satisfied, skipping upgrade: absl-py>=0.7.0 in /usr/local/lib/python3.6/dist-packages (from tensorflow) (0.8.1)\n",
            "Requirement already satisfied, skipping upgrade: google-pasta>=0.1.6 in /usr/local/lib/python3.6/dist-packages (from tensorflow) (0.1.7)\n",
            "Requirement already satisfied, skipping upgrade: grpcio>=1.8.6 in /usr/local/lib/python3.6/dist-packages (from tensorflow) (1.15.0)\n",
            "Requirement already satisfied, skipping upgrade: astor>=0.6.0 in /usr/local/lib/python3.6/dist-packages (from tensorflow) (0.8.0)\n",
            "Requirement already satisfied, skipping upgrade: wheel>=0.26 in /usr/local/lib/python3.6/dist-packages (from tensorflow) (0.33.6)\n",
            "Requirement already satisfied, skipping upgrade: protobuf>=3.6.1 in /usr/local/lib/python3.6/dist-packages (from tensorflow) (3.10.0)\n",
            "Collecting tensorboard<2.1.0,>=2.0.0\n",
            "\u001b[?25l  Downloading https://files.pythonhosted.org/packages/9b/a6/e8ffa4e2ddb216449d34cfcb825ebb38206bee5c4553d69e7bc8bc2c5d64/tensorboard-2.0.0-py3-none-any.whl (3.8MB)\n",
            "\u001b[K     |████████████████████████████████| 3.8MB 49.0MB/s \n",
            "\u001b[?25hRequirement already satisfied, skipping upgrade: six>=1.10.0 in /usr/local/lib/python3.6/dist-packages (from tensorflow) (1.12.0)\n",
            "Requirement already satisfied, skipping upgrade: gast==0.2.2 in /usr/local/lib/python3.6/dist-packages (from tensorflow) (0.2.2)\n",
            "Requirement already satisfied, skipping upgrade: h5py in /usr/local/lib/python3.6/dist-packages (from keras-applications>=1.0.8->tensorflow) (2.8.0)\n",
            "Requirement already satisfied, skipping upgrade: setuptools in /usr/local/lib/python3.6/dist-packages (from protobuf>=3.6.1->tensorflow) (41.4.0)\n",
            "Requirement already satisfied, skipping upgrade: werkzeug>=0.11.15 in /usr/local/lib/python3.6/dist-packages (from tensorboard<2.1.0,>=2.0.0->tensorflow) (0.16.0)\n",
            "Requirement already satisfied, skipping upgrade: markdown>=2.6.8 in /usr/local/lib/python3.6/dist-packages (from tensorboard<2.1.0,>=2.0.0->tensorflow) (3.1.1)\n",
            "Installing collected packages: tensorflow-estimator, tensorboard, tensorflow\n",
            "  Found existing installation: tensorflow-estimator 1.15.1\n",
            "    Uninstalling tensorflow-estimator-1.15.1:\n",
            "      Successfully uninstalled tensorflow-estimator-1.15.1\n",
            "  Found existing installation: tensorboard 1.15.0\n",
            "    Uninstalling tensorboard-1.15.0:\n",
            "      Successfully uninstalled tensorboard-1.15.0\n",
            "  Found existing installation: tensorflow 1.15.0\n",
            "    Uninstalling tensorflow-1.15.0:\n",
            "      Successfully uninstalled tensorflow-1.15.0\n",
            "Successfully installed tensorboard-2.0.0 tensorflow-2.0.0 tensorflow-estimator-2.0.1\n"
          ],
          "name": "stdout"
        },
        {
          "output_type": "display_data",
          "data": {
            "application/vnd.colab-display-data+json": {
              "pip_warning": {
                "packages": [
                  "tensorboard",
                  "tensorflow",
                  "tensorflow_core",
                  "tensorflow_estimator"
                ]
              }
            }
          },
          "metadata": {
            "tags": []
          }
        }
      ]
    },
    {
      "cell_type": "code",
      "metadata": {
        "id": "G_LaZfL4nqb6",
        "colab_type": "code",
        "outputId": "753f61e8-b615-468d-ba2d-c0b2db59e0d3",
        "colab": {
          "base_uri": "https://localhost:8080/",
          "height": 51
        }
      },
      "source": [
        "from keras.preprocessing.image import ImageDataGenerator\n",
        "\n",
        "train_datagen = ImageDataGenerator(rescale = 1./255,\n",
        "                                   shear_range = 0.2,\n",
        "                                   zoom_range = 0.2,\n",
        "                                   horizontal_flip = True,\n",
        "                                   width_shift_range=0.2,\n",
        "                                   height_shift_range=0.2,\n",
        "                                   rotation_range=15,\n",
        "                                   vertical_flip=True,\n",
        "                                   fill_mode='reflect',\n",
        "                                   data_format='channels_last',\n",
        "                                   brightness_range=[0.5, 1.5],\n",
        "                                   featurewise_center=True,\n",
        "                                   featurewise_std_normalization=True)\n",
        "\n",
        "test_datagen = ImageDataGenerator(rescale = 1./255)\n",
        "\n",
        "training_set = train_datagen.flow_from_directory('/content/gdrive/My Drive/disease_dataset/train',\n",
        "                                                 target_size = (64, 64),\n",
        "                                                 batch_size = 32,\n",
        "                                                 class_mode = 'binary')\n",
        "\n",
        "test_set = test_datagen.flow_from_directory('/content/gdrive/My Drive/disease_dataset/test',\n",
        "                                            target_size = (64, 64),\n",
        "                                            batch_size = 32,\n",
        "                                            class_mode = 'binary')"
      ],
      "execution_count": 0,
      "outputs": [
        {
          "output_type": "stream",
          "text": [
            "Found 40 images belonging to 2 classes.\n",
            "Found 4 images belonging to 2 classes.\n"
          ],
          "name": "stdout"
        }
      ]
    },
    {
      "cell_type": "code",
      "metadata": {
        "id": "tpMDBzvxoSRb",
        "colab_type": "code",
        "outputId": "18b1ba86-9411-40be-8399-73b966aae33c",
        "colab": {
          "base_uri": "https://localhost:8080/",
          "height": 1000
        }
      },
      "source": [
        "history = classifier.fit_generator(training_set,\n",
        "                         samples_per_epoch = 128,\n",
        "                         nb_epoch = 50,\n",
        "                         validation_data = test_set,\n",
        "                         nb_val_samples = 59)"
      ],
      "execution_count": 0,
      "outputs": [
        {
          "output_type": "stream",
          "text": [
            "WARNING:tensorflow:From /usr/local/lib/python3.6/dist-packages/keras/backend/tensorflow_backend.py:1033: The name tf.assign_add is deprecated. Please use tf.compat.v1.assign_add instead.\n",
            "\n"
          ],
          "name": "stdout"
        },
        {
          "output_type": "stream",
          "text": [
            "/usr/local/lib/python3.6/dist-packages/ipykernel_launcher.py:5: UserWarning: The semantics of the Keras 2 argument `steps_per_epoch` is not the same as the Keras 1 argument `samples_per_epoch`. `steps_per_epoch` is the number of batches to draw from the generator at each epoch. Basically steps_per_epoch = samples_per_epoch/batch_size. Similarly `nb_val_samples`->`validation_steps` and `val_samples`->`steps` arguments have changed. Update your method calls accordingly.\n",
            "  \"\"\"\n",
            "/usr/local/lib/python3.6/dist-packages/ipykernel_launcher.py:5: UserWarning: Update your `fit_generator` call to the Keras 2 API: `fit_generator(<keras_pre..., validation_data=<keras_pre..., steps_per_epoch=4, epochs=50, validation_steps=59)`\n",
            "  \"\"\"\n"
          ],
          "name": "stderr"
        },
        {
          "output_type": "stream",
          "text": [
            "WARNING:tensorflow:From /usr/local/lib/python3.6/dist-packages/keras/backend/tensorflow_backend.py:1020: The name tf.assign is deprecated. Please use tf.compat.v1.assign instead.\n",
            "\n",
            "WARNING:tensorflow:From /usr/local/lib/python3.6/dist-packages/keras/backend/tensorflow_backend.py:3005: The name tf.Session is deprecated. Please use tf.compat.v1.Session instead.\n",
            "\n",
            "Epoch 1/50\n"
          ],
          "name": "stdout"
        },
        {
          "output_type": "stream",
          "text": [
            "/usr/local/lib/python3.6/dist-packages/keras_preprocessing/image/image_data_generator.py:716: UserWarning: This ImageDataGenerator specifies `featurewise_center`, but it hasn't been fit on any training data. Fit it first by calling `.fit(numpy_data)`.\n",
            "  warnings.warn('This ImageDataGenerator specifies '\n",
            "/usr/local/lib/python3.6/dist-packages/keras_preprocessing/image/image_data_generator.py:724: UserWarning: This ImageDataGenerator specifies `featurewise_std_normalization`, but it hasn't been fit on any training data. Fit it first by calling `.fit(numpy_data)`.\n",
            "  warnings.warn('This ImageDataGenerator specifies '\n"
          ],
          "name": "stderr"
        },
        {
          "output_type": "stream",
          "text": [
            "WARNING:tensorflow:From /usr/local/lib/python3.6/dist-packages/keras/backend/tensorflow_backend.py:190: The name tf.get_default_session is deprecated. Please use tf.compat.v1.get_default_session instead.\n",
            "\n",
            "WARNING:tensorflow:From /usr/local/lib/python3.6/dist-packages/keras/backend/tensorflow_backend.py:197: The name tf.ConfigProto is deprecated. Please use tf.compat.v1.ConfigProto instead.\n",
            "\n",
            "WARNING:tensorflow:From /usr/local/lib/python3.6/dist-packages/keras/backend/tensorflow_backend.py:207: The name tf.global_variables is deprecated. Please use tf.compat.v1.global_variables instead.\n",
            "\n",
            "WARNING:tensorflow:From /usr/local/lib/python3.6/dist-packages/keras/backend/tensorflow_backend.py:216: The name tf.is_variable_initialized is deprecated. Please use tf.compat.v1.is_variable_initialized instead.\n",
            "\n",
            "WARNING:tensorflow:From /usr/local/lib/python3.6/dist-packages/keras/backend/tensorflow_backend.py:223: The name tf.variables_initializer is deprecated. Please use tf.compat.v1.variables_initializer instead.\n",
            "\n",
            "4/4 [==============================] - 17s 4s/step - loss: 0.9104 - acc: 0.5275 - val_loss: 0.6942 - val_acc: 0.5000\n",
            "Epoch 2/50\n",
            "4/4 [==============================] - 6s 2s/step - loss: 0.7034 - acc: 0.4625 - val_loss: 0.6813 - val_acc: 0.7500\n",
            "Epoch 3/50\n",
            "4/4 [==============================] - 6s 2s/step - loss: 0.6905 - acc: 0.5363 - val_loss: 0.6779 - val_acc: 0.5000\n",
            "Epoch 4/50\n",
            "4/4 [==============================] - 6s 2s/step - loss: 0.6901 - acc: 0.5188 - val_loss: 0.6663 - val_acc: 0.5000\n",
            "Epoch 5/50\n",
            "4/4 [==============================] - 6s 2s/step - loss: 0.6914 - acc: 0.4437 - val_loss: 0.6259 - val_acc: 0.5000\n",
            "Epoch 6/50\n",
            "4/4 [==============================] - 6s 2s/step - loss: 0.6856 - acc: 0.6238 - val_loss: 0.6124 - val_acc: 0.5000\n",
            "Epoch 7/50\n",
            "4/4 [==============================] - 6s 2s/step - loss: 0.6785 - acc: 0.4725 - val_loss: 0.5760 - val_acc: 0.5000\n",
            "Epoch 8/50\n",
            "4/4 [==============================] - 6s 2s/step - loss: 0.6682 - acc: 0.5725 - val_loss: 0.5078 - val_acc: 0.5000\n",
            "Epoch 9/50\n",
            "4/4 [==============================] - 6s 2s/step - loss: 0.6529 - acc: 0.6238 - val_loss: 0.4122 - val_acc: 1.0000\n",
            "Epoch 10/50\n",
            "4/4 [==============================] - 6s 2s/step - loss: 0.6167 - acc: 0.7775 - val_loss: 0.5734 - val_acc: 0.5000\n",
            "Epoch 11/50\n",
            "4/4 [==============================] - 6s 2s/step - loss: 0.6063 - acc: 0.5637 - val_loss: 0.3165 - val_acc: 1.0000\n",
            "Epoch 12/50\n",
            "4/4 [==============================] - 6s 2s/step - loss: 0.5522 - acc: 0.8037 - val_loss: 0.2680 - val_acc: 1.0000\n",
            "Epoch 13/50\n",
            "4/4 [==============================] - 6s 2s/step - loss: 0.5756 - acc: 0.6875 - val_loss: 0.2719 - val_acc: 1.0000\n",
            "Epoch 14/50\n",
            "4/4 [==============================] - 6s 2s/step - loss: 0.5527 - acc: 0.7750 - val_loss: 0.3733 - val_acc: 0.5000\n",
            "Epoch 15/50\n",
            "4/4 [==============================] - 6s 2s/step - loss: 0.5287 - acc: 0.7925 - val_loss: 0.2729 - val_acc: 1.0000\n",
            "Epoch 16/50\n",
            "4/4 [==============================] - 6s 2s/step - loss: 0.4313 - acc: 0.8412 - val_loss: 1.6820 - val_acc: 0.5000\n",
            "Epoch 17/50\n",
            "4/4 [==============================] - 6s 2s/step - loss: 0.6974 - acc: 0.6213 - val_loss: 0.2239 - val_acc: 1.0000\n",
            "Epoch 18/50\n",
            "4/4 [==============================] - 6s 2s/step - loss: 0.5209 - acc: 0.6963 - val_loss: 0.1493 - val_acc: 1.0000\n",
            "Epoch 19/50\n",
            "4/4 [==============================] - 6s 2s/step - loss: 0.4813 - acc: 0.7700 - val_loss: 0.6195 - val_acc: 0.5000\n",
            "Epoch 20/50\n",
            "4/4 [==============================] - 6s 2s/step - loss: 0.5121 - acc: 0.6713 - val_loss: 0.1513 - val_acc: 1.0000\n",
            "Epoch 21/50\n",
            "4/4 [==============================] - 6s 2s/step - loss: 0.4942 - acc: 0.7787 - val_loss: 0.1894 - val_acc: 1.0000\n",
            "Epoch 22/50\n",
            "4/4 [==============================] - 6s 2s/step - loss: 0.6493 - acc: 0.6675 - val_loss: 0.6683 - val_acc: 0.5000\n",
            "Epoch 23/50\n",
            "4/4 [==============================] - 6s 2s/step - loss: 0.5157 - acc: 0.7412 - val_loss: 0.6086 - val_acc: 0.5000\n",
            "Epoch 24/50\n",
            "4/4 [==============================] - 6s 2s/step - loss: 0.4753 - acc: 0.7762 - val_loss: 0.2152 - val_acc: 1.0000\n",
            "Epoch 25/50\n",
            "4/4 [==============================] - 6s 2s/step - loss: 0.5140 - acc: 0.7388 - val_loss: 0.1434 - val_acc: 1.0000\n",
            "Epoch 26/50\n",
            "4/4 [==============================] - 6s 2s/step - loss: 0.5584 - acc: 0.7312 - val_loss: 0.3573 - val_acc: 0.7500\n",
            "Epoch 27/50\n",
            "4/4 [==============================] - 6s 2s/step - loss: 0.5448 - acc: 0.6850 - val_loss: 0.1428 - val_acc: 1.0000\n",
            "Epoch 28/50\n",
            "4/4 [==============================] - 6s 2s/step - loss: 0.4810 - acc: 0.7500 - val_loss: 0.2631 - val_acc: 1.0000\n",
            "Epoch 29/50\n",
            "4/4 [==============================] - 6s 2s/step - loss: 0.5078 - acc: 0.7662 - val_loss: 0.1479 - val_acc: 1.0000\n",
            "Epoch 30/50\n",
            "4/4 [==============================] - 6s 2s/step - loss: 0.5125 - acc: 0.7400 - val_loss: 0.4770 - val_acc: 0.5000\n",
            "Epoch 31/50\n",
            "4/4 [==============================] - 6s 2s/step - loss: 0.4471 - acc: 0.7600 - val_loss: 0.2062 - val_acc: 1.0000\n",
            "Epoch 32/50\n",
            "4/4 [==============================] - 6s 2s/step - loss: 0.3521 - acc: 0.9187 - val_loss: 0.2822 - val_acc: 1.0000\n",
            "Epoch 33/50\n",
            "4/4 [==============================] - 6s 2s/step - loss: 0.3224 - acc: 0.9113 - val_loss: 0.1717 - val_acc: 1.0000\n",
            "Epoch 34/50\n",
            "4/4 [==============================] - 6s 2s/step - loss: 0.2432 - acc: 0.9825 - val_loss: 0.1053 - val_acc: 1.0000\n",
            "Epoch 35/50\n",
            "4/4 [==============================] - 6s 2s/step - loss: 0.3783 - acc: 0.7750 - val_loss: 0.1757 - val_acc: 1.0000\n",
            "Epoch 36/50\n",
            "4/4 [==============================] - 6s 2s/step - loss: 0.4991 - acc: 0.7787 - val_loss: 0.0702 - val_acc: 1.0000\n",
            "Epoch 37/50\n",
            "4/4 [==============================] - 6s 2s/step - loss: 0.4675 - acc: 0.7762 - val_loss: 3.3270 - val_acc: 0.5000\n",
            "Epoch 38/50\n",
            "4/4 [==============================] - 6s 2s/step - loss: 0.6591 - acc: 0.7963 - val_loss: 0.1139 - val_acc: 1.0000\n",
            "Epoch 39/50\n",
            "4/4 [==============================] - 6s 2s/step - loss: 0.4404 - acc: 0.7762 - val_loss: 0.2870 - val_acc: 1.0000\n",
            "Epoch 40/50\n",
            "4/4 [==============================] - 6s 2s/step - loss: 0.4384 - acc: 0.8037 - val_loss: 0.1378 - val_acc: 1.0000\n",
            "Epoch 41/50\n",
            "4/4 [==============================] - 6s 2s/step - loss: 0.4724 - acc: 0.7063 - val_loss: 0.3306 - val_acc: 0.7500\n",
            "Epoch 42/50\n",
            "4/4 [==============================] - 6s 2s/step - loss: 0.5484 - acc: 0.7013 - val_loss: 0.2800 - val_acc: 1.0000\n",
            "Epoch 43/50\n",
            "4/4 [==============================] - 6s 2s/step - loss: 0.4652 - acc: 0.7213 - val_loss: 0.1055 - val_acc: 1.0000\n",
            "Epoch 44/50\n",
            "4/4 [==============================] - 6s 2s/step - loss: 0.4507 - acc: 0.8050 - val_loss: 0.1668 - val_acc: 1.0000\n",
            "Epoch 45/50\n",
            "4/4 [==============================] - 6s 2s/step - loss: 0.4089 - acc: 0.8925 - val_loss: 0.1718 - val_acc: 1.0000\n",
            "Epoch 46/50\n",
            "4/4 [==============================] - 6s 2s/step - loss: 0.3496 - acc: 0.9375 - val_loss: 0.1853 - val_acc: 1.0000\n",
            "Epoch 47/50\n",
            "4/4 [==============================] - 6s 2s/step - loss: 0.3613 - acc: 0.8588 - val_loss: 0.3460 - val_acc: 0.7500\n",
            "Epoch 48/50\n",
            "4/4 [==============================] - 6s 2s/step - loss: 0.3293 - acc: 0.8575 - val_loss: 0.0727 - val_acc: 1.0000\n",
            "Epoch 49/50\n",
            "4/4 [==============================] - 6s 2s/step - loss: 0.3957 - acc: 0.8313 - val_loss: 0.5258 - val_acc: 0.5000\n",
            "Epoch 50/50\n",
            "4/4 [==============================] - 6s 2s/step - loss: 0.3440 - acc: 0.8387 - val_loss: 0.0979 - val_acc: 1.0000\n"
          ],
          "name": "stdout"
        }
      ]
    },
    {
      "cell_type": "code",
      "metadata": {
        "id": "K62lsjeGoZds",
        "colab_type": "code",
        "outputId": "f704d33e-b18d-4a57-d2b0-9d6b47147e27",
        "colab": {
          "base_uri": "https://localhost:8080/",
          "height": 312
        }
      },
      "source": [
        "import matplotlib.pyplot as plt\n",
        "fig = plt.figure()\n",
        "plt.plot(history.history['val_loss'])\n",
        "plt.legend(['validation'], loc='upper left')\n",
        "plt.title('validation loss vs epoch')\n",
        "plt.ylabel('validation loss')\n",
        "plt.xlabel('Epoch')"
      ],
      "execution_count": 0,
      "outputs": [
        {
          "output_type": "execute_result",
          "data": {
            "text/plain": [
              "Text(0.5, 0, 'Epoch')"
            ]
          },
          "metadata": {
            "tags": []
          },
          "execution_count": 11
        },
        {
          "output_type": "display_data",
          "data": {
            "image/png": "[encoded data removed]",
            "text/plain": [
              "<Figure size 432x288 with 1 Axes>"
            ]
          },
          "metadata": {
            "tags": []
          }
        }
      ]
    },
    {
      "cell_type": "code",
      "metadata": {
        "id": "3urQnm-mounX",
        "colab_type": "code",
        "outputId": "b379c2df-f7cc-48a1-c852-5470066ffbd4",
        "colab": {
          "base_uri": "https://localhost:8080/",
          "height": 312
        }
      },
      "source": [
        "import matplotlib.pyplot as plt\n",
        "fig = plt.figure()\n",
        "plt.plot(history.history['val_acc'])\n",
        "plt.legend(['validation'], loc='upper left')\n",
        "plt.title('validation accuracy vs epoch')\n",
        "plt.ylabel('validation accuracy')\n",
        "plt.xlabel('Epoch')"
      ],
      "execution_count": 0,
      "outputs": [
        {
          "output_type": "execute_result",
          "data": {
            "text/plain": [
              "Text(0.5, 0, 'Epoch')"
            ]
          },
          "metadata": {
            "tags": []
          },
          "execution_count": 12
        },
        {
          "output_type": "display_data",
          "data": {
            "image/png": "[encoded data removed]",
            "text/plain": [
              "<Figure size 432x288 with 1 Axes>"
            ]
          },
          "metadata": {
            "tags": []
          }
        }
      ]
    },
    {
      "cell_type": "code",
      "metadata": {
        "id": "dhLBHMm9pxL3",
        "colab_type": "code",
        "colab": {}
      },
      "source": [
        "import numpy as np\n",
        "from keras.preprocessing import image\n",
        "test_image = image.load_img('/content/gdrive/My Drive/disease_dataset/test/diseased/image 021.png', target_size = (64, 64))\n",
        "test_image = image.img_to_array(test_image)\n",
        "test_image = np.expand_dims(test_image, axis = 0)\n",
        "result = classifier.predict(test_image)\n",
        "training_set.class_indices\n",
        "if result[0][0] == 1:\n",
        "  prediction = 'diseased'\n",
        "else:\n",
        "  prediction = 'diseased_free'"
      ],
      "execution_count": 0,
      "outputs": []
    },
    {
      "cell_type": "code",
      "metadata": {
        "id": "k6r0M8Ib2qLJ",
        "colab_type": "code",
        "outputId": "6a33fe8f-1c49-4d2a-a0b8-a3f661efa3e6",
        "colab": {
          "base_uri": "https://localhost:8080/",
          "height": 51
        }
      },
      "source": [
        "if result[0][0] == 1:\n",
        "  prediction = 'diseased'\n",
        "  print('diseased')\n",
        "else:\n",
        "  prediction = 'diseased_free'\n",
        "  print('not diseased')\n",
        "result"
      ],
      "execution_count": 31,
      "outputs": [
        {
          "output_type": "stream",
          "text": [
            "diseased\n"
          ],
          "name": "stdout"
        },
        {
          "output_type": "execute_result",
          "data": {
            "text/plain": [
              "array([[1.]], dtype=float32)"
            ]
          },
          "metadata": {
            "tags": []
          },
          "execution_count": 31
        }
      ]
    },
    {
      "cell_type": "code",
      "metadata": {
        "id": "qdvLS5mv3He6",
        "colab_type": "code",
        "colab": {}
      },
      "source": [
        ""
      ],
      "execution_count": 0,
      "outputs": []
    }
  ]
}